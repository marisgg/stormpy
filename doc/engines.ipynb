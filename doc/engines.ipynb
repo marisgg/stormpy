{
 "cells": [
  {
   "cell_type": "markdown",
   "metadata": {},
   "source": [
    "# Engines"
   ]
  },
  {
   "cell_type": "markdown",
   "metadata": {},
   "source": [
    "## Background\n",
    "\n",
    "Storm supports different engines for building and checking a model. A detailed comparison of the different engines provided in Storm can be found on the [Storm website](https://www.stormchecker.org/documentation/usage/engines.html)."
   ]
  },
  {
   "cell_type": "markdown",
   "metadata": {},
   "source": [
    "## Sparse engine\n",
    "\n",
    "In all of the examples so far we used the default sparse engine:"
   ]
  },
  {
   "cell_type": "code",
   "execution_count": 1,
   "metadata": {
    "execution": {
     "iopub.execute_input": "2025-01-22T10:37:23.845609Z",
     "iopub.status.busy": "2025-01-22T10:37:23.845202Z",
     "iopub.status.idle": "2025-01-22T10:37:23.898862Z",
     "shell.execute_reply": "2025-01-22T10:37:23.898338Z"
    }
   },
   "outputs": [
    {
     "name": "stdout",
     "output_type": "stream",
     "text": [
      "<class 'stormpy.storage.storage.SparseDtmc'>\n"
     ]
    }
   ],
   "source": [
    "import stormpy.examples\n",
    "import stormpy.examples.files\n",
    "\n",
    "prism_program = stormpy.parse_prism_program(stormpy.examples.files.prism_dtmc_die)\n",
    "properties = stormpy.parse_properties('P=? [F \"one\"]', prism_program)\n",
    "sparse_model = stormpy.build_sparse_model(prism_program, properties)\n",
    "print(type(sparse_model))"
   ]
  },
  {
   "cell_type": "code",
   "execution_count": 2,
   "metadata": {
    "execution": {
     "iopub.execute_input": "2025-01-22T10:37:23.900642Z",
     "iopub.status.busy": "2025-01-22T10:37:23.900291Z",
     "iopub.status.idle": "2025-01-22T10:37:23.903015Z",
     "shell.execute_reply": "2025-01-22T10:37:23.902605Z"
    }
   },
   "outputs": [
    {
     "name": "stdout",
     "output_type": "stream",
     "text": [
      "Number of states: 13\n"
     ]
    }
   ],
   "source": [
    ">>> print(\"Number of states: {}\".format(sparse_model.nr_states))\n",
    "\n"
   ]
  },
  {
   "cell_type": "code",
   "execution_count": 3,
   "metadata": {
    "execution": {
     "iopub.execute_input": "2025-01-22T10:37:23.904624Z",
     "iopub.status.busy": "2025-01-22T10:37:23.904312Z",
     "iopub.status.idle": "2025-01-22T10:37:23.907006Z",
     "shell.execute_reply": "2025-01-22T10:37:23.906617Z"
    }
   },
   "outputs": [
    {
     "name": "stdout",
     "output_type": "stream",
     "text": [
      "Number of transitions: 20\n"
     ]
    }
   ],
   "source": [
    "print(\"Number of transitions: {}\".format(sparse_model.nr_transitions))"
   ]
  },
  {
   "cell_type": "code",
   "execution_count": 4,
   "metadata": {
    "execution": {
     "iopub.execute_input": "2025-01-22T10:37:23.908462Z",
     "iopub.status.busy": "2025-01-22T10:37:23.908222Z",
     "iopub.status.idle": "2025-01-22T10:37:23.911200Z",
     "shell.execute_reply": "2025-01-22T10:37:23.910790Z"
    }
   },
   "outputs": [
    {
     "name": "stdout",
     "output_type": "stream",
     "text": [
      "0.16666666666666666\n"
     ]
    }
   ],
   "source": [
    "sparse_result = stormpy.check_model_sparse(sparse_model, properties[0])\n",
    "initial_state = sparse_model.initial_states[0]\n",
    "print(sparse_result.at(initial_state))"
   ]
  },
  {
   "cell_type": "markdown",
   "metadata": {},
   "source": [
    "## Symbolic engine\n",
    "\n",
    "Instead of using the sparse engine, one can also use a symbolic representation in terms of binary decision diagrams (BDDs).\n",
    "To use the symbolic (dd) engine, we use the symbolic versions for the building and model checking:\n"
   ]
  },
  {
   "cell_type": "code",
   "execution_count": 5,
   "metadata": {
    "execution": {
     "iopub.execute_input": "2025-01-22T10:37:23.912580Z",
     "iopub.status.busy": "2025-01-22T10:37:23.912424Z",
     "iopub.status.idle": "2025-01-22T10:37:24.095160Z",
     "shell.execute_reply": "2025-01-22T10:37:24.094623Z"
    }
   },
   "outputs": [
    {
     "name": "stdout",
     "output_type": "stream",
     "text": [
      "<class 'stormpy.storage.storage.SymbolicSylvanDtmc'>\n"
     ]
    }
   ],
   "source": [
    "symbolic_model = stormpy.build_symbolic_model(prism_program, properties)\n",
    "print(type(symbolic_model))"
   ]
  },
  {
   "cell_type": "code",
   "execution_count": 6,
   "metadata": {
    "execution": {
     "iopub.execute_input": "2025-01-22T10:37:24.099580Z",
     "iopub.status.busy": "2025-01-22T10:37:24.099355Z",
     "iopub.status.idle": "2025-01-22T10:37:24.106161Z",
     "shell.execute_reply": "2025-01-22T10:37:24.103641Z"
    }
   },
   "outputs": [
    {
     "name": "stdout",
     "output_type": "stream",
     "text": [
      "Number of states: 13\n"
     ]
    }
   ],
   "source": [
    "print(\"Number of states: {}\".format(symbolic_model.nr_states))"
   ]
  },
  {
   "cell_type": "code",
   "execution_count": 7,
   "metadata": {
    "execution": {
     "iopub.execute_input": "2025-01-22T10:37:24.109053Z",
     "iopub.status.busy": "2025-01-22T10:37:24.108874Z",
     "iopub.status.idle": "2025-01-22T10:37:24.116309Z",
     "shell.execute_reply": "2025-01-22T10:37:24.115807Z"
    }
   },
   "outputs": [
    {
     "name": "stdout",
     "output_type": "stream",
     "text": [
      "Number of transitions: 20\n"
     ]
    }
   ],
   "source": [
    "print(\"Number of transitions: {}\".format(symbolic_model.nr_transitions))"
   ]
  },
  {
   "cell_type": "code",
   "execution_count": 8,
   "metadata": {
    "execution": {
     "iopub.execute_input": "2025-01-22T10:37:24.119783Z",
     "iopub.status.busy": "2025-01-22T10:37:24.119455Z",
     "iopub.status.idle": "2025-01-22T10:37:24.148983Z",
     "shell.execute_reply": "2025-01-22T10:37:24.148473Z"
    }
   },
   "outputs": [
    {
     "name": "stdout",
     "output_type": "stream",
     "text": [
      "[0, 1] (range)\n"
     ]
    }
   ],
   "source": [
    "symbolic_result = stormpy.check_model_dd(symbolic_model, properties[0])\n",
    "print(symbolic_result)"
   ]
  },
  {
   "cell_type": "markdown",
   "metadata": {},
   "source": [
    "We can also filter the computed results and only consider the initial states:"
   ]
  },
  {
   "cell_type": "code",
   "execution_count": 9,
   "metadata": {
    "execution": {
     "iopub.execute_input": "2025-01-22T10:37:24.153945Z",
     "iopub.status.busy": "2025-01-22T10:37:24.151280Z",
     "iopub.status.idle": "2025-01-22T10:37:24.158232Z",
     "shell.execute_reply": "2025-01-22T10:37:24.157710Z"
    }
   },
   "outputs": [
    {
     "name": "stdout",
     "output_type": "stream",
     "text": [
      "0.16666650772094727\n"
     ]
    }
   ],
   "source": [
    "filter = stormpy.create_filter_initial_states_symbolic(symbolic_model)\n",
    "symbolic_result.filter(filter)\n",
    "print(symbolic_result.min)"
   ]
  },
  {
   "cell_type": "markdown",
   "metadata": {},
   "source": [
    "It is also possible to first build the model symbolically and then transform it into a sparse model:"
   ]
  },
  {
   "cell_type": "code",
   "execution_count": 10,
   "metadata": {
    "execution": {
     "iopub.execute_input": "2025-01-22T10:37:24.162280Z",
     "iopub.status.busy": "2025-01-22T10:37:24.161866Z",
     "iopub.status.idle": "2025-01-22T10:37:24.167181Z",
     "shell.execute_reply": "2025-01-22T10:37:24.166755Z"
    }
   },
   "outputs": [
    {
     "name": "stdout",
     "output_type": "stream",
     "text": [
      "<class 'stormpy.storage.storage.SymbolicSylvanDtmc'>\n"
     ]
    }
   ],
   "source": [
    "print(type(symbolic_model))"
   ]
  },
  {
   "cell_type": "code",
   "execution_count": 11,
   "metadata": {
    "execution": {
     "iopub.execute_input": "2025-01-22T10:37:24.170114Z",
     "iopub.status.busy": "2025-01-22T10:37:24.169928Z",
     "iopub.status.idle": "2025-01-22T10:37:24.181955Z",
     "shell.execute_reply": "2025-01-22T10:37:24.178621Z"
    }
   },
   "outputs": [
    {
     "name": "stdout",
     "output_type": "stream",
     "text": [
      "<class 'stormpy.storage.storage.SparseDtmc'>\n"
     ]
    }
   ],
   "source": [
    "transformed_model = stormpy.transform_to_sparse_model(symbolic_model)\n",
    "print(type(transformed_model))"
   ]
  },
  {
   "cell_type": "markdown",
   "metadata": {},
   "source": [
    "## Hybrid engine\n",
    "\n",
    "A third possibility is to use the hybrid engine, a combination of sparse and dd engines.\n",
    "It first builds the model symbolically.\n",
    "The actual model checking is then performed with the engine which is deemed most suitable for the given task.\n"
   ]
  },
  {
   "cell_type": "code",
   "execution_count": 12,
   "metadata": {
    "execution": {
     "iopub.execute_input": "2025-01-22T10:37:24.186168Z",
     "iopub.status.busy": "2025-01-22T10:37:24.185986Z",
     "iopub.status.idle": "2025-01-22T10:37:24.195031Z",
     "shell.execute_reply": "2025-01-22T10:37:24.194539Z"
    }
   },
   "outputs": [
    {
     "name": "stdout",
     "output_type": "stream",
     "text": [
      "<class 'stormpy.storage.storage.SymbolicSylvanDtmc'>\n"
     ]
    }
   ],
   "source": [
    "print(type(symbolic_model))"
   ]
  },
  {
   "cell_type": "code",
   "execution_count": 13,
   "metadata": {
    "execution": {
     "iopub.execute_input": "2025-01-22T10:37:24.199122Z",
     "iopub.status.busy": "2025-01-22T10:37:24.198940Z",
     "iopub.status.idle": "2025-01-22T10:37:24.206274Z",
     "shell.execute_reply": "2025-01-22T10:37:24.205723Z"
    }
   },
   "outputs": [
    {
     "name": "stdout",
     "output_type": "stream",
     "text": [
      "0.166667\n"
     ]
    }
   ],
   "source": [
    "hybrid_result = stormpy.check_model_hybrid(symbolic_model, properties[0])\n",
    "filter = stormpy.create_filter_initial_states_symbolic(symbolic_model)\n",
    "hybrid_result.filter(filter)\n",
    "print(hybrid_result)"
   ]
  }
 ],
 "metadata": {
  "date": 1598178167.148,
  "filename": "engines.rst",
  "kernelspec": {
   "display_name": "Python 3",
   "language": "python",
   "name": "python3"
  },
  "language_info": {
   "codemirror_mode": {
    "name": "ipython",
    "version": 3
   },
   "file_extension": ".py",
   "mimetype": "text/x-python",
   "name": "python",
   "nbconvert_exporter": "python",
   "pygments_lexer": "ipython3",
   "version": "3.12.3"
  },
  "title": "Engines"
 },
 "nbformat": 4,
 "nbformat_minor": 4
}
