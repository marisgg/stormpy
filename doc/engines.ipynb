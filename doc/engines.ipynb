{
 "cells": [
  {
   "cell_type": "markdown",
   "metadata": {},
   "source": [
    "# Engines"
   ]
  },
  {
   "cell_type": "markdown",
   "metadata": {},
   "source": [
    "## Background\n",
    "\n",
    "Storm supports different engines for building and checking a model. A detailed comparison of the different engines provided in Storm can be found on the [Storm website](https://www.stormchecker.org/documentation/usage/engines.html)."
   ]
  },
  {
   "cell_type": "markdown",
   "metadata": {},
   "source": [
    "## Sparse engine\n",
    "\n",
    "In all of the examples so far we used the default sparse engine:"
   ]
  },
  {
   "cell_type": "code",
   "execution_count": 1,
   "metadata": {
    "execution": {
     "iopub.execute_input": "2024-07-03T14:55:24.229602Z",
     "iopub.status.busy": "2024-07-03T14:55:24.229435Z",
     "iopub.status.idle": "2024-07-03T14:55:24.281998Z",
     "shell.execute_reply": "2024-07-03T14:55:24.281523Z"
    }
   },
   "outputs": [
    {
     "name": "stdout",
     "output_type": "stream",
     "text": [
      "<class 'stormpy.storage.storage.SparseDtmc'>\n"
     ]
    }
   ],
   "source": [
    ">>> import stormpy.examples\n",
    ">>> import stormpy.examples.files\n",
    ">>> prism_program = stormpy.parse_prism_program(stormpy.examples.files.prism_dtmc_die)\n",
    ">>> properties = stormpy.parse_properties('P=? [F \"one\"]', prism_program)\n",
    ">>> sparse_model = stormpy.build_sparse_model(prism_program, properties)\n",
    ">>> print(type(sparse_model))\n"
   ]
  },
  {
   "cell_type": "code",
   "execution_count": 2,
   "metadata": {
    "execution": {
     "iopub.execute_input": "2024-07-03T14:55:24.284076Z",
     "iopub.status.busy": "2024-07-03T14:55:24.283735Z",
     "iopub.status.idle": "2024-07-03T14:55:24.286656Z",
     "shell.execute_reply": "2024-07-03T14:55:24.286230Z"
    }
   },
   "outputs": [
    {
     "name": "stdout",
     "output_type": "stream",
     "text": [
      "Number of states: 13\n"
     ]
    }
   ],
   "source": [
    ">>> print(\"Number of states: {}\".format(sparse_model.nr_states))\n",
    "\n"
   ]
  },
  {
   "cell_type": "code",
   "execution_count": 3,
   "metadata": {
    "execution": {
     "iopub.execute_input": "2024-07-03T14:55:24.288488Z",
     "iopub.status.busy": "2024-07-03T14:55:24.288201Z",
     "iopub.status.idle": "2024-07-03T14:55:24.291066Z",
     "shell.execute_reply": "2024-07-03T14:55:24.290637Z"
    }
   },
   "outputs": [
    {
     "name": "stdout",
     "output_type": "stream",
     "text": [
      "Number of transitions: 20\n"
     ]
    }
   ],
   "source": [
    ">>> print(\"Number of transitions: {}\".format(sparse_model.nr_transitions))"
   ]
  },
  {
   "cell_type": "code",
   "execution_count": 4,
   "metadata": {
    "execution": {
     "iopub.execute_input": "2024-07-03T14:55:24.293017Z",
     "iopub.status.busy": "2024-07-03T14:55:24.292642Z",
     "iopub.status.idle": "2024-07-03T14:55:24.295989Z",
     "shell.execute_reply": "2024-07-03T14:55:24.295590Z"
    }
   },
   "outputs": [
    {
     "name": "stdout",
     "output_type": "stream",
     "text": [
      "0.16666666666666666\n"
     ]
    }
   ],
   "source": [
    ">>> sparse_result = stormpy.check_model_sparse(sparse_model, properties[0])\n",
    ">>> initial_state = sparse_model.initial_states[0]\n",
    ">>> print(sparse_result.at(initial_state))"
   ]
  },
  {
   "cell_type": "markdown",
   "metadata": {},
   "source": [
    "## Symbolic engine\n",
    "\n",
    "Instead of using the sparse engine, one can also use a symbolic representation in terms of binary decision diagrams (BDDs).\n",
    "To use the symbolic (dd) engine, we use the symbolic versions for the building and model checking:\n"
   ]
  },
  {
   "cell_type": "code",
   "execution_count": 5,
   "metadata": {
    "execution": {
     "iopub.execute_input": "2024-07-03T14:55:24.297813Z",
     "iopub.status.busy": "2024-07-03T14:55:24.297505Z",
     "iopub.status.idle": "2024-07-03T14:55:24.487622Z",
     "shell.execute_reply": "2024-07-03T14:55:24.487097Z"
    }
   },
   "outputs": [
    {
     "name": "stdout",
     "output_type": "stream",
     "text": [
      "<class 'stormpy.storage.storage.SymbolicSylvanDtmc'>\n"
     ]
    }
   ],
   "source": [
    ">>> symbolic_model = stormpy.build_symbolic_model(prism_program, properties)\n",
    ">>> print(type(symbolic_model))"
   ]
  },
  {
   "cell_type": "code",
   "execution_count": 6,
   "metadata": {
    "execution": {
     "iopub.execute_input": "2024-07-03T14:55:24.489954Z",
     "iopub.status.busy": "2024-07-03T14:55:24.489717Z",
     "iopub.status.idle": "2024-07-03T14:55:24.494011Z",
     "shell.execute_reply": "2024-07-03T14:55:24.493536Z"
    }
   },
   "outputs": [
    {
     "name": "stdout",
     "output_type": "stream",
     "text": [
      "Number of states: 13\n"
     ]
    }
   ],
   "source": [
    ">>> print(\"Number of states: {}\".format(symbolic_model.nr_states))"
   ]
  },
  {
   "cell_type": "code",
   "execution_count": 7,
   "metadata": {
    "execution": {
     "iopub.execute_input": "2024-07-03T14:55:24.496151Z",
     "iopub.status.busy": "2024-07-03T14:55:24.495933Z",
     "iopub.status.idle": "2024-07-03T14:55:24.501008Z",
     "shell.execute_reply": "2024-07-03T14:55:24.500477Z"
    }
   },
   "outputs": [
    {
     "name": "stdout",
     "output_type": "stream",
     "text": [
      "Number of transitions: 20\n"
     ]
    }
   ],
   "source": [
    ">>> print(\"Number of transitions: {}\".format(symbolic_model.nr_transitions))"
   ]
  },
  {
   "cell_type": "code",
   "execution_count": 8,
   "metadata": {
    "execution": {
     "iopub.execute_input": "2024-07-03T14:55:24.503110Z",
     "iopub.status.busy": "2024-07-03T14:55:24.502924Z",
     "iopub.status.idle": "2024-07-03T14:55:24.528376Z",
     "shell.execute_reply": "2024-07-03T14:55:24.527828Z"
    }
   },
   "outputs": [
    {
     "name": "stdout",
     "output_type": "stream",
     "text": [
      "[0, 1] (range)\n"
     ]
    }
   ],
   "source": [
    ">>> symbolic_result = stormpy.check_model_dd(symbolic_model, properties[0])\n",
    ">>> print(symbolic_result)"
   ]
  },
  {
   "cell_type": "markdown",
   "metadata": {},
   "source": [
    "We can also filter the computed results and only consider the initial states:"
   ]
  },
  {
   "cell_type": "code",
   "execution_count": 9,
   "metadata": {
    "execution": {
     "iopub.execute_input": "2024-07-03T14:55:24.530784Z",
     "iopub.status.busy": "2024-07-03T14:55:24.530571Z",
     "iopub.status.idle": "2024-07-03T14:55:24.534360Z",
     "shell.execute_reply": "2024-07-03T14:55:24.533828Z"
    }
   },
   "outputs": [
    {
     "name": "stdout",
     "output_type": "stream",
     "text": [
      "0.16666650772094727\n"
     ]
    }
   ],
   "source": [
    ">>> filter = stormpy.create_filter_initial_states_symbolic(symbolic_model)\n",
    ">>> symbolic_result.filter(filter)\n",
    ">>> print(symbolic_result.min)"
   ]
  },
  {
   "cell_type": "markdown",
   "metadata": {},
   "source": [
    "It is also possible to first build the model symbolically and then transform it into a sparse model:"
   ]
  },
  {
   "cell_type": "code",
   "execution_count": 10,
   "metadata": {
    "execution": {
     "iopub.execute_input": "2024-07-03T14:55:24.536395Z",
     "iopub.status.busy": "2024-07-03T14:55:24.536216Z",
     "iopub.status.idle": "2024-07-03T14:55:24.539081Z",
     "shell.execute_reply": "2024-07-03T14:55:24.538541Z"
    }
   },
   "outputs": [
    {
     "name": "stdout",
     "output_type": "stream",
     "text": [
      "<class 'stormpy.storage.storage.SymbolicSylvanDtmc'>\n"
     ]
    }
   ],
   "source": [
    ">>> print(type(symbolic_model))"
   ]
  },
  {
   "cell_type": "code",
   "execution_count": 11,
   "metadata": {
    "execution": {
     "iopub.execute_input": "2024-07-03T14:55:24.541142Z",
     "iopub.status.busy": "2024-07-03T14:55:24.540967Z",
     "iopub.status.idle": "2024-07-03T14:55:24.547536Z",
     "shell.execute_reply": "2024-07-03T14:55:24.546964Z"
    }
   },
   "outputs": [
    {
     "name": "stdout",
     "output_type": "stream",
     "text": [
      "<class 'stormpy.storage.storage.SparseDtmc'>\n"
     ]
    }
   ],
   "source": [
    ">>> transformed_model = stormpy.transform_to_sparse_model(symbolic_model)\n",
    ">>> print(type(transformed_model))"
   ]
  },
  {
   "cell_type": "markdown",
   "metadata": {},
   "source": [
    "## Hybrid engine\n",
    "\n",
    "A third possibility is to use the hybrid engine, a combination of sparse and dd engines.\n",
    "It first builds the model symbolically.\n",
    "The actual model checking is then performed with the engine which is deemed most suitable for the given task.\n"
   ]
  },
  {
   "cell_type": "code",
   "execution_count": 12,
   "metadata": {
    "execution": {
     "iopub.execute_input": "2024-07-03T14:55:24.549606Z",
     "iopub.status.busy": "2024-07-03T14:55:24.549391Z",
     "iopub.status.idle": "2024-07-03T14:55:24.552463Z",
     "shell.execute_reply": "2024-07-03T14:55:24.551914Z"
    }
   },
   "outputs": [
    {
     "name": "stdout",
     "output_type": "stream",
     "text": [
      "<class 'stormpy.storage.storage.SymbolicSylvanDtmc'>\n"
     ]
    }
   ],
   "source": [
    ">>> print(type(symbolic_model))"
   ]
  },
  {
   "cell_type": "code",
   "execution_count": 13,
   "metadata": {
    "execution": {
     "iopub.execute_input": "2024-07-03T14:55:24.554485Z",
     "iopub.status.busy": "2024-07-03T14:55:24.554271Z",
     "iopub.status.idle": "2024-07-03T14:55:24.558427Z",
     "shell.execute_reply": "2024-07-03T14:55:24.557869Z"
    }
   },
   "outputs": [
    {
     "name": "stdout",
     "output_type": "stream",
     "text": [
      "0.166667\n"
     ]
    }
   ],
   "source": [
    ">>> hybrid_result = stormpy.check_model_hybrid(symbolic_model, properties[0])\n",
    ">>> filter = stormpy.create_filter_initial_states_symbolic(symbolic_model)\n",
    ">>> hybrid_result.filter(filter)\n",
    ">>> print(hybrid_result)"
   ]
  }
 ],
 "metadata": {
  "date": 1598178167.148,
  "filename": "engines.rst",
  "kernelspec": {
   "display_name": "Python 3",
   "language": "python",
   "name": "python3"
  },
  "language_info": {
   "codemirror_mode": {
    "name": "ipython",
    "version": 3
   },
   "file_extension": ".py",
   "mimetype": "text/x-python",
   "name": "python",
   "nbconvert_exporter": "python",
   "pygments_lexer": "ipython3",
   "version": "3.12.3"
  },
  "title": "Engines"
 },
 "nbformat": 4,
 "nbformat_minor": 4
}
