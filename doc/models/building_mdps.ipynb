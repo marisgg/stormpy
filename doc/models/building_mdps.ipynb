{
 "cells": [
  {
   "cell_type": "markdown",
   "metadata": {},
   "source": [
    "# Markov decision processes (MDPs)"
   ]
  },
  {
   "cell_type": "markdown",
   "metadata": {},
   "source": [
    "## Background\n",
    "\n",
    "In [Discrete-time Markov chains (DTMCs)](building_dtmcs.ipynb) we modelled Knuth-Yao’s model of a fair die by the means of a DTMC.\n",
    "In the following we extend this model with nondeterministic choice by building a Markov decision process.\n",
    "\n",
    "[01-building-mdps.py](https://github.com/moves-rwth/stormpy/blob/master/examples/building_mdps/01-building-mdps.py)\n",
    "\n",
    "First, we import Stormpy:"
   ]
  },
  {
   "cell_type": "code",
   "execution_count": 1,
   "metadata": {
    "execution": {
     "iopub.execute_input": "2025-01-15T10:38:35.447005Z",
     "iopub.status.busy": "2025-01-15T10:38:35.446542Z",
     "iopub.status.idle": "2025-01-15T10:38:35.484246Z",
     "shell.execute_reply": "2025-01-15T10:38:35.483738Z"
    },
    "hide-output": false
   },
   "outputs": [],
   "source": [
    "import stormpy"
   ]
  },
  {
   "cell_type": "markdown",
   "metadata": {},
   "source": [
    "## Transition Matrix\n",
    "\n",
    "Since we want to build a nondeterminstic model, we create a transition matrix with a custom row group for each state:"
   ]
  },
  {
   "cell_type": "code",
   "execution_count": 2,
   "metadata": {
    "execution": {
     "iopub.execute_input": "2025-01-15T10:38:35.486070Z",
     "iopub.status.busy": "2025-01-15T10:38:35.485729Z",
     "iopub.status.idle": "2025-01-15T10:38:35.488471Z",
     "shell.execute_reply": "2025-01-15T10:38:35.488075Z"
    },
    "hide-output": false
   },
   "outputs": [],
   "source": [
    "builder = stormpy.SparseMatrixBuilder(rows=0, columns=0, entries=0, force_dimensions=False, has_custom_row_grouping=True, row_groups=0)"
   ]
  },
  {
   "cell_type": "markdown",
   "metadata": {},
   "source": [
    "We need more than one row for the transitions starting in state 0 because a nondeterministic choice over the actions is available.\n",
    "Therefore, we start a new group that will contain the rows representing actions of state 0.\n",
    "Note that the row group needs to be added before any entries are added to the group:"
   ]
  },
  {
   "cell_type": "code",
   "execution_count": 3,
   "metadata": {
    "execution": {
     "iopub.execute_input": "2025-01-15T10:38:35.490018Z",
     "iopub.status.busy": "2025-01-15T10:38:35.489710Z",
     "iopub.status.idle": "2025-01-15T10:38:35.492503Z",
     "shell.execute_reply": "2025-01-15T10:38:35.492026Z"
    },
    "hide-output": false
   },
   "outputs": [],
   "source": [
    "builder.new_row_group(0)\n",
    "builder.add_next_value(0, 1, 0.5)\n",
    "builder.add_next_value(0, 2, 0.5)\n",
    "builder.add_next_value(1, 1, 0.2)\n",
    "builder.add_next_value(1, 2, 0.8)"
   ]
  },
  {
   "cell_type": "markdown",
   "metadata": {},
   "source": [
    "In this example, we have two nondeterministic choices in state 0.\n",
    "With choice 0 we have probability 0.5 to got to state 1 and probability 0.5 to got to state 2.\n",
    "With choice 1 we got to state 1 with probability 0.2 and go to state 2 with probability 0.8.\n",
    "\n",
    "For the remaining states, we need to specify the starting rows of each row group:"
   ]
  },
  {
   "cell_type": "code",
   "execution_count": 4,
   "metadata": {
    "execution": {
     "iopub.execute_input": "2025-01-15T10:38:35.494119Z",
     "iopub.status.busy": "2025-01-15T10:38:35.493728Z",
     "iopub.status.idle": "2025-01-15T10:38:35.497603Z",
     "shell.execute_reply": "2025-01-15T10:38:35.497228Z"
    },
    "hide-output": false
   },
   "outputs": [],
   "source": [
    "builder.new_row_group(2)\n",
    "builder.add_next_value(2, 3, 0.5)\n",
    "builder.add_next_value(2, 4, 0.5)\n",
    "builder.new_row_group(3)\n",
    "builder.add_next_value(3, 5, 0.5)\n",
    "builder.add_next_value(3, 6, 0.5)\n",
    "builder.new_row_group(4)\n",
    "builder.add_next_value(4, 7, 0.5)\n",
    "builder.add_next_value(4, 1, 0.5)\n",
    "builder.new_row_group(5)\n",
    "builder.add_next_value(5, 8, 0.5)\n",
    "builder.add_next_value(5, 9, 0.5)\n",
    "builder.new_row_group(6)\n",
    "builder.add_next_value(6, 10, 0.5)\n",
    "builder.add_next_value(6, 11, 0.5)\n",
    "builder.new_row_group(7)\n",
    "builder.add_next_value(7, 2, 0.5)\n",
    "builder.add_next_value(7, 12, 0.5)\n",
    "\n",
    "for s in range(8, 14):\n",
    "    builder.new_row_group(s)\n",
    "    builder.add_next_value(s, s - 1, 1)"
   ]
  },
  {
   "cell_type": "markdown",
   "metadata": {},
   "source": [
    "Finally, we build the transition matrix:"
   ]
  },
  {
   "cell_type": "code",
   "execution_count": 5,
   "metadata": {
    "execution": {
     "iopub.execute_input": "2025-01-15T10:38:35.499015Z",
     "iopub.status.busy": "2025-01-15T10:38:35.498858Z",
     "iopub.status.idle": "2025-01-15T10:38:35.501404Z",
     "shell.execute_reply": "2025-01-15T10:38:35.500915Z"
    },
    "hide-output": false
   },
   "outputs": [],
   "source": [
    "transition_matrix = builder.build()"
   ]
  },
  {
   "cell_type": "markdown",
   "metadata": {},
   "source": [
    "## Labeling\n",
    "\n",
    "We have seen the construction of a state labeling in previous examples. Therefore we omit the description here\n",
    "Instead, we focus on the choices.\n",
    "Since in state 0 a nondeterministic choice over two actions is available, the number of choices is 14.\n",
    "To distinguish those we can define a choice labeling:"
   ]
  },
  {
   "cell_type": "code",
   "execution_count": 6,
   "metadata": {
    "execution": {
     "iopub.execute_input": "2025-01-15T10:38:35.502822Z",
     "iopub.status.busy": "2025-01-15T10:38:35.502644Z",
     "iopub.status.idle": "2025-01-15T10:38:35.506187Z",
     "shell.execute_reply": "2025-01-15T10:38:35.505767Z"
    },
    "nbsphinx": "hidden"
   },
   "outputs": [],
   "source": [
    "state_labeling = stormpy.storage.StateLabeling(13)\n",
    "labels = {\"init\", \"one\", \"two\", \"three\", \"four\", \"five\", \"six\", \"done\", \"deadlock\"}\n",
    "for label in labels:\n",
    "    state_labeling.add_label(label)\n",
    "\n",
    "state_labeling.add_label_to_state(\"init\", 0)\n",
    "state_labeling.add_label_to_state(\"one\", 7)\n",
    "state_labeling.add_label_to_state(\"two\", 8)\n",
    "state_labeling.add_label_to_state(\"three\", 9)\n",
    "state_labeling.add_label_to_state(\"four\", 10)\n",
    "state_labeling.add_label_to_state(\"five\", 11)\n",
    "state_labeling.add_label_to_state(\"six\", 12)\n",
    "state_labeling.set_states(\"done\", stormpy.BitVector(13, [7, 8, 9, 10, 11, 12]))"
   ]
  },
  {
   "cell_type": "code",
   "execution_count": 7,
   "metadata": {
    "execution": {
     "iopub.execute_input": "2025-01-15T10:38:35.507638Z",
     "iopub.status.busy": "2025-01-15T10:38:35.507478Z",
     "iopub.status.idle": "2025-01-15T10:38:35.510101Z",
     "shell.execute_reply": "2025-01-15T10:38:35.509692Z"
    },
    "hide-output": false
   },
   "outputs": [],
   "source": [
    "choice_labeling = stormpy.storage.ChoiceLabeling(14)\n",
    "choice_labels = {\"a\", \"b\"}\n",
    "\n",
    "for label in choice_labels:\n",
    "    choice_labeling.add_label(label)"
   ]
  },
  {
   "cell_type": "markdown",
   "metadata": {},
   "source": [
    "We assign the label ‘a’ to the first action of state 0 and ‘b’ to the second.\n",
    "Recall that those actions where defined in row one and two of the transition matrix respectively:"
   ]
  },
  {
   "cell_type": "code",
   "execution_count": 8,
   "metadata": {
    "execution": {
     "iopub.execute_input": "2025-01-15T10:38:35.511595Z",
     "iopub.status.busy": "2025-01-15T10:38:35.511290Z",
     "iopub.status.idle": "2025-01-15T10:38:35.514191Z",
     "shell.execute_reply": "2025-01-15T10:38:35.513768Z"
    },
    "hide-output": false
   },
   "outputs": [
    {
     "name": "stdout",
     "output_type": "stream",
     "text": [
      "Choice 2 labels\n",
      "   * b -> 1 item(s)\n",
      "   * a -> 1 item(s)\n",
      "\n"
     ]
    }
   ],
   "source": [
    "choice_labeling.add_label_to_choice(\"a\", 0)\n",
    "choice_labeling.add_label_to_choice(\"b\", 1)\n",
    "print(choice_labeling)"
   ]
  },
  {
   "cell_type": "markdown",
   "metadata": {},
   "source": [
    "## Reward models\n",
    "\n",
    "In this reward model the length of the action rewards coincides with the number of choices:"
   ]
  },
  {
   "cell_type": "code",
   "execution_count": 9,
   "metadata": {
    "execution": {
     "iopub.execute_input": "2025-01-15T10:38:35.515677Z",
     "iopub.status.busy": "2025-01-15T10:38:35.515371Z",
     "iopub.status.idle": "2025-01-15T10:38:35.517936Z",
     "shell.execute_reply": "2025-01-15T10:38:35.517565Z"
    },
    "hide-output": false
   },
   "outputs": [],
   "source": [
    "reward_models = {}\n",
    "action_reward = [0.0, 0.0, 1.0, 1.0, 1.0, 1.0, 1.0, 1.0, 0.0, 0.0, 0.0, 0.0, 0.0, 0.0]\n",
    "reward_models[\"coin_flips\"] = stormpy.SparseRewardModel(optional_state_action_reward_vector=action_reward)"
   ]
  },
  {
   "cell_type": "markdown",
   "metadata": {},
   "source": [
    "## Building the Model\n",
    "\n",
    "We collect the components:"
   ]
  },
  {
   "cell_type": "code",
   "execution_count": 10,
   "metadata": {
    "execution": {
     "iopub.execute_input": "2025-01-15T10:38:35.519528Z",
     "iopub.status.busy": "2025-01-15T10:38:35.519222Z",
     "iopub.status.idle": "2025-01-15T10:38:35.521590Z",
     "shell.execute_reply": "2025-01-15T10:38:35.521228Z"
    },
    "hide-output": false
   },
   "outputs": [],
   "source": [
    "components = stormpy.SparseModelComponents(\n",
    "    transition_matrix=transition_matrix, state_labeling=state_labeling, reward_models=reward_models, rate_transitions=False\n",
    ")\n",
    "components.choice_labeling = choice_labeling"
   ]
  },
  {
   "cell_type": "markdown",
   "metadata": {},
   "source": [
    "We build the model:"
   ]
  },
  {
   "cell_type": "code",
   "execution_count": 11,
   "metadata": {
    "execution": {
     "iopub.execute_input": "2025-01-15T10:38:35.522988Z",
     "iopub.status.busy": "2025-01-15T10:38:35.522840Z",
     "iopub.status.idle": "2025-01-15T10:38:35.525616Z",
     "shell.execute_reply": "2025-01-15T10:38:35.525215Z"
    },
    "hide-output": false
   },
   "outputs": [
    {
     "name": "stdout",
     "output_type": "stream",
     "text": [
      "-------------------------------------------------------------- \n",
      "Model type: \tMDP (sparse)\n",
      "States: \t13\n",
      "Transitions: \t22\n",
      "Choices: \t14\n",
      "Reward Models:  coin_flips\n",
      "State Labels: \t9 labels\n",
      "   * five -> 1 item(s)\n",
      "   * deadlock -> 0 item(s)\n",
      "   * done -> 6 item(s)\n",
      "   * four -> 1 item(s)\n",
      "   * one -> 1 item(s)\n",
      "   * init -> 1 item(s)\n",
      "   * two -> 1 item(s)\n",
      "   * three -> 1 item(s)\n",
      "   * six -> 1 item(s)\n",
      "Choice Labels: \t2 labels\n",
      "   * b -> 1 item(s)\n",
      "   * a -> 1 item(s)\n",
      "-------------------------------------------------------------- \n",
      "\n"
     ]
    }
   ],
   "source": [
    "mdp = stormpy.storage.SparseMdp(components)\n",
    "print(mdp)"
   ]
  },
  {
   "cell_type": "markdown",
   "metadata": {},
   "source": [
    "## Partially observable Markov decision process (POMDPs)\n",
    "\n",
    "To build a partially observable Markov decision process (POMDP),\n",
    "components.observations can be set to a list of numbers that defines the status of the observables in each state."
   ]
  }
 ],
 "metadata": {
  "celltoolbar": "Edit Metadata",
  "date": 1598178167.234528,
  "filename": "building_mdps.rst",
  "kernelspec": {
   "display_name": "Python 3",
   "language": "python",
   "name": "python3"
  },
  "language_info": {
   "codemirror_mode": {
    "name": "ipython",
    "version": 3
   },
   "file_extension": ".py",
   "mimetype": "text/x-python",
   "name": "python",
   "nbconvert_exporter": "python",
   "pygments_lexer": "ipython3",
   "version": "3.12.3"
  },
  "title": "Markov decision processes (MDPs)"
 },
 "nbformat": 4,
 "nbformat_minor": 4
}
